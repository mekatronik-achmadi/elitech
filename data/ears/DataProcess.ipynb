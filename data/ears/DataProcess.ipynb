{
 "cells": [
  {
   "cell_type": "markdown",
   "id": "d491114b",
   "metadata": {},
   "source": [
    "# Pengolahan Data Hasil Ukur\n",
    "\n",
    "Software yang digunakan untuk pengukuran adalah Realtime Analyzer (paket dari DSSF3) versi 5.2.0.26 buatan Yoshimasha Electronic Inc.\n",
    "Software tersebut running di atas layer Wine 6.13 dan PulseAudio 14.2 di sistem operasi Arch-Linux kernel 5.13.4."
   ]
  },
  {
   "cell_type": "code",
   "execution_count": 1,
   "id": "47638d48",
   "metadata": {},
   "outputs": [],
   "source": [
    "# import necessary modules\n",
    "\n",
    "%load_ext autoreload\n",
    "%autoreload 2\n",
    "\n",
    "import numpy as np\n",
    "import pandas as pd"
   ]
  },
  {
   "cell_type": "markdown",
   "id": "d704ded0",
   "metadata": {},
   "source": [
    "Rumus SPL Accumulation untuk 1/3 Octave band spectrums.\n",
    "\n",
    "Didapat dari: https://www.cirrusresearch.co.uk/blog/2020/03/calculation-of-dba-from-octave-band-sound-pressure-levels/"
   ]
  },
  {
   "cell_type": "code",
   "execution_count": 2,
   "id": "c4217656",
   "metadata": {},
   "outputs": [],
   "source": [
    "def SplAll(dataIn):\n",
    "    freqSum = 0\n",
    "    for i in range(len(dataIn)):\n",
    "        valeach = np.power(10,dataIn[i]/10)\n",
    "        freqSum = freqSum + valeach\n",
    "    freqAll = 10* np.log10(freqSum)\n",
    "    \n",
    "    return freqAll"
   ]
  },
  {
   "cell_type": "markdown",
   "id": "7cc196cf",
   "metadata": {},
   "source": [
    "Fungsi Data Process"
   ]
  },
  {
   "cell_type": "code",
   "execution_count": 3,
   "id": "71f82b1f",
   "metadata": {},
   "outputs": [],
   "source": [
    "def DataProcess(csvFile):\n",
    "    data = pd.read_csv(csvFile)\n",
    "    \n",
    "    allL = np.zeros(30)\n",
    "    allR = np.zeros(30)\n",
    "    \n",
    "    avgL = np.zeros(30)\n",
    "    avgR = np.zeros(30)\n",
    "\n",
    "    for i in range(30):\n",
    "        allL[i] = SplAll(data.iloc[i,4::2])\n",
    "        allR[i] = SplAll(data.iloc[i,5::2])\n",
    "    \n",
    "    for i in range(30):\n",
    "        avgL[i] = np.average(data.iloc[i,4::2])\n",
    "        avgR[i] = np.average(data.iloc[i,5::2])\n",
    "        \n",
    "    print(\"%s || Sum L: %5.2f dB & R: %5.2f dB || Avg L: %5.2f dB & R: %5.2f dB\" % (csvFile, np.average(allL), np.average(allR), np.average(avgL), np.average(avgR)))"
   ]
  },
  {
   "cell_type": "markdown",
   "id": "a91df019",
   "metadata": {},
   "source": [
    "Proses data CSV dari rekaman software DSSF3 Real-Time Analyzer di 1/3 Octave Band Analysis untuk speech"
   ]
  },
  {
   "cell_type": "code",
   "execution_count": 4,
   "id": "0ed8cd9f",
   "metadata": {},
   "outputs": [
    {
     "name": "stdout",
     "output_type": "stream",
     "text": [
      "./speech_35.csv || Sum L: 59.59 dB & R: 59.81 dB || Avg L: 34.16 dB & R: 34.40 dB\n",
      "./speech_40.csv || Sum L: 62.65 dB & R: 62.87 dB || Avg L: 35.69 dB & R: 36.02 dB\n",
      "./speech_45.csv || Sum L: 65.55 dB & R: 65.85 dB || Avg L: 37.09 dB & R: 37.55 dB\n",
      "./speech_50.csv || Sum L: 69.90 dB & R: 70.20 dB || Avg L: 39.67 dB & R: 40.25 dB\n",
      "./speech_55.csv || Sum L: 75.70 dB & R: 75.97 dB || Avg L: 42.70 dB & R: 43.32 dB\n",
      "./speech_60.csv || Sum L: 79.92 dB & R: 80.27 dB || Avg L: 45.51 dB & R: 46.20 dB\n"
     ]
    }
   ],
   "source": [
    "speech_35 = DataProcess('./speech_35.csv')\n",
    "speech_40 = DataProcess('./speech_40.csv')\n",
    "speech_45 = DataProcess('./speech_45.csv')\n",
    "speech_50 = DataProcess('./speech_50.csv')\n",
    "speech_55 = DataProcess('./speech_55.csv')\n",
    "speech_60 = DataProcess('./speech_60.csv')"
   ]
  },
  {
   "cell_type": "markdown",
   "id": "842ce7e8",
   "metadata": {},
   "source": [
    "Proses data CSV dari rekaman software DSSF3 Real-Time Analyzer di 1/3 Octave Band Analysis untuk wishper"
   ]
  },
  {
   "cell_type": "code",
   "execution_count": 5,
   "id": "eebd4539",
   "metadata": {},
   "outputs": [
    {
     "name": "stdout",
     "output_type": "stream",
     "text": [
      "./wishper_35.csv || Sum L: 45.12 dB & R: 44.26 dB || Avg L: 25.80 dB & R: 25.54 dB\n",
      "./wishper_40.csv || Sum L: 45.22 dB & R: 44.40 dB || Avg L: 25.74 dB & R: 25.45 dB\n",
      "./wishper_45.csv || Sum L: 45.35 dB & R: 44.59 dB || Avg L: 25.76 dB & R: 25.43 dB\n",
      "./wishper_50.csv || Sum L: 45.97 dB & R: 45.44 dB || Avg L: 25.97 dB & R: 25.66 dB\n",
      "./wishper_55.csv || Sum L: 47.04 dB & R: 46.84 dB || Avg L: 26.21 dB & R: 26.06 dB\n",
      "./wishper_60.csv || Sum L: 49.25 dB & R: 49.55 dB || Avg L: 27.32 dB & R: 27.46 dB\n"
     ]
    }
   ],
   "source": [
    "wishper_35 = DataProcess('./wishper_35.csv')\n",
    "wishper_40 = DataProcess('./wishper_40.csv')\n",
    "wishper_45 = DataProcess('./wishper_45.csv')\n",
    "wishper_50 = DataProcess('./wishper_50.csv')\n",
    "wishper_55 = DataProcess('./wishper_55.csv')\n",
    "wishper_60 = DataProcess('./wishper_60.csv')"
   ]
  },
  {
   "cell_type": "code",
   "execution_count": null,
   "id": "8f4d0777",
   "metadata": {},
   "outputs": [],
   "source": []
  }
 ],
 "metadata": {
  "kernelspec": {
   "display_name": "Python 3",
   "language": "python",
   "name": "python3"
  },
  "language_info": {
   "codemirror_mode": {
    "name": "ipython",
    "version": 3
   },
   "file_extension": ".py",
   "mimetype": "text/x-python",
   "name": "python",
   "nbconvert_exporter": "python",
   "pygments_lexer": "ipython3",
   "version": "3.9.6"
  }
 },
 "nbformat": 4,
 "nbformat_minor": 5
}

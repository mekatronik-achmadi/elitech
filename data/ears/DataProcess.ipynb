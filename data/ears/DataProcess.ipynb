{
 "cells": [
  {
   "cell_type": "markdown",
   "id": "14e1d1e2",
   "metadata": {},
   "source": [
    "# Pengolahan Data Hasil Ukur\n",
    "\n",
    "Software yang digunakan untuk pengukuran adalah Realtime Analyzer (paket dari DSSF3) versi 5.2.0.26 buatan Yoshimasha Electronic Inc.\n",
    "Software tersebut running di atas layer Wine 6.13 dan PulseAudio 14.2 di sistem operasi Arch-Linux kernel 5.13.4.\n",
    "\n",
    "Hasil pengukuran menggunakan FFT Analyzer pada 1/3 Octave Band dengan A-Weighting untuk membuang noise frekuensi rendah"
   ]
  },
  {
   "cell_type": "code",
   "execution_count": 1,
   "id": "ce2e7ff8",
   "metadata": {},
   "outputs": [],
   "source": [
    "# import necessary modules\n",
    "\n",
    "%load_ext autoreload\n",
    "%autoreload 2\n",
    "\n",
    "import numpy as np\n",
    "import pandas as pd"
   ]
  },
  {
   "cell_type": "markdown",
   "id": "7b0d9d52",
   "metadata": {},
   "source": [
    "Rumus SPL Accumulation untuk 1/3 Octave band spectrums.\n",
    "\n",
    "Didapat dari: https://www.cirrusresearch.co.uk/blog/2020/03/calculation-of-dba-from-octave-band-sound-pressure-levels/"
   ]
  },
  {
   "cell_type": "code",
   "execution_count": 2,
   "id": "e26fc900",
   "metadata": {},
   "outputs": [],
   "source": [
    "def SplAll(dataIn):\n",
    "    freqSum = 0\n",
    "    for i in range(len(dataIn)):\n",
    "        valeach = np.power(10,dataIn[i]/10)\n",
    "        freqSum = freqSum + valeach\n",
    "    freqAll = 10* np.log10(freqSum)\n",
    "    \n",
    "    return freqAll"
   ]
  },
  {
   "cell_type": "markdown",
   "id": "0df3b77b",
   "metadata": {},
   "source": [
    "Fungsi Data Process dengan batasan upper frekuensi tertentu.\n",
    "Melihat analisa frekuensi dari audio rekaman yang digunakan, maka frekuensi di atas 12500 Hz tidak signifikan dan akan diabaikan.\n",
    "Untuk itu, upFreq ditentukan sebagai 59 (L) dan 60 (R) sesuai index array rekaman."
   ]
  },
  {
   "cell_type": "code",
   "execution_count": 3,
   "id": "b004cf04",
   "metadata": {},
   "outputs": [],
   "source": [
    "def DataProcess(csvFile, lowFreq=4, upFreq=59):\n",
    "    data = pd.read_csv(csvFile)\n",
    "    \n",
    "    allL = np.zeros(30)\n",
    "    allR = np.zeros(30)\n",
    "    \n",
    "    avgL = np.zeros(30)\n",
    "    avgR = np.zeros(30)\n",
    "\n",
    "    for i in range(30):\n",
    "        allL[i] = SplAll(data.iloc[i,lowFreq:upFreq:2])\n",
    "        allR[i] = SplAll(data.iloc[i,lowFreq+1:upFreq+1:2])\n",
    "    \n",
    "    for i in range(30):\n",
    "        avgL[i] = np.average(data.iloc[i,lowFreq:upFreq:2])\n",
    "        avgR[i] = np.average(data.iloc[i,lowFreq+1:upFreq+1:2])\n",
    "        \n",
    "    print(\"%s || Sum L: %5.2f dB & R: %5.2f dB || Avg L: %5.2f dB & R: %5.2f dB\" % (csvFile, np.average(allL), np.average(allR), np.average(avgL), np.average(avgR)))"
   ]
  },
  {
   "cell_type": "markdown",
   "id": "961e4d76",
   "metadata": {},
   "source": [
    "Proses data CSV dari rekaman software DSSF3 Real-Time Analyzer di 1/3 Octave Band Analysis untuk speech"
   ]
  },
  {
   "cell_type": "code",
   "execution_count": 4,
   "id": "18f4eb37",
   "metadata": {},
   "outputs": [
    {
     "name": "stdout",
     "output_type": "stream",
     "text": [
      "./speech_35.csv || Sum L: 59.56 dB & R: 59.78 dB || Avg L: 34.47 dB & R: 34.86 dB\n",
      "./speech_40.csv || Sum L: 62.63 dB & R: 62.85 dB || Avg L: 36.17 dB & R: 36.66 dB\n",
      "./speech_45.csv || Sum L: 65.54 dB & R: 65.84 dB || Avg L: 37.71 dB & R: 38.35 dB\n",
      "./speech_50.csv || Sum L: 69.89 dB & R: 70.20 dB || Avg L: 40.57 dB & R: 41.34 dB\n",
      "./speech_55.csv || Sum L: 75.70 dB & R: 75.97 dB || Avg L: 43.92 dB & R: 44.75 dB\n",
      "./speech_60.csv || Sum L: 79.92 dB & R: 80.27 dB || Avg L: 47.04 dB & R: 47.93 dB\n"
     ]
    }
   ],
   "source": [
    "speech_35 = DataProcess('./speech_35.csv')\n",
    "speech_40 = DataProcess('./speech_40.csv')\n",
    "speech_45 = DataProcess('./speech_45.csv')\n",
    "speech_50 = DataProcess('./speech_50.csv')\n",
    "speech_55 = DataProcess('./speech_55.csv')\n",
    "speech_60 = DataProcess('./speech_60.csv')"
   ]
  },
  {
   "cell_type": "markdown",
   "id": "4a4ee79e",
   "metadata": {},
   "source": [
    "Proses data CSV dari rekaman software DSSF3 Real-Time Analyzer di 1/3 Octave Band Analysis untuk wishper"
   ]
  },
  {
   "cell_type": "code",
   "execution_count": 5,
   "id": "a987492d",
   "metadata": {},
   "outputs": [
    {
     "name": "stdout",
     "output_type": "stream",
     "text": [
      "./wishper_35.csv || Sum L: 44.53 dB & R: 43.71 dB || Avg L: 25.22 dB & R: 25.05 dB\n",
      "./wishper_40.csv || Sum L: 44.64 dB & R: 43.85 dB || Avg L: 25.16 dB & R: 24.94 dB\n",
      "./wishper_45.csv || Sum L: 44.77 dB & R: 44.06 dB || Avg L: 25.17 dB & R: 24.93 dB\n",
      "./wishper_50.csv || Sum L: 45.44 dB & R: 44.96 dB || Avg L: 25.41 dB & R: 25.18 dB\n",
      "./wishper_55.csv || Sum L: 46.58 dB & R: 46.44 dB || Avg L: 25.68 dB & R: 25.62 dB\n",
      "./wishper_60.csv || Sum L: 48.92 dB & R: 49.29 dB || Avg L: 26.89 dB & R: 27.17 dB\n"
     ]
    }
   ],
   "source": [
    "wishper_35 = DataProcess('./wishper_35.csv')\n",
    "wishper_40 = DataProcess('./wishper_40.csv')\n",
    "wishper_45 = DataProcess('./wishper_45.csv')\n",
    "wishper_50 = DataProcess('./wishper_50.csv')\n",
    "wishper_55 = DataProcess('./wishper_55.csv')\n",
    "wishper_60 = DataProcess('./wishper_60.csv')"
   ]
  },
  {
   "cell_type": "markdown",
   "id": "6a4a4480",
   "metadata": {},
   "source": [
    "## Parceval's Theorem\n",
    "\n",
    "Create array of absolute sum of each frequencies"
   ]
  },
  {
   "cell_type": "code",
   "execution_count": 6,
   "id": "e4a470bd",
   "metadata": {},
   "outputs": [],
   "source": [
    "def ParcevalCalc(csvFile, lowFreq=4, upFreq=59):\n",
    "    \n",
    "    # read data\n",
    "    data = pd.read_csv(csvFile)\n",
    "    \n",
    "    # generate zero array\n",
    "    sumL = np.zeros(np.shape(data.iloc[0,lowFreq:upFreq:2]))\n",
    "    sumR = np.zeros(np.shape(data.iloc[0,lowFreq+1:upFreq+1:2]))\n",
    "    \n",
    "    # Left Part\n",
    "    i = 0\n",
    "    for j in range(lowFreq,upFreq,2):\n",
    "        for t in range(30):\n",
    "            sumL[i] = sumL[i] + np.abs(data.iloc[t,j])\n",
    "        i = i + 1\n",
    "    \n",
    "    # Right Part\n",
    "    i = 0\n",
    "    for j in range(lowFreq+1,upFreq+1,2):\n",
    "        for t in range(30):\n",
    "            sumR[i] = sumR[i] + np.abs(data.iloc[t,j])\n",
    "        i = i + 1\n",
    "        \n",
    "    # output as both array\n",
    "    return np.vstack((sumL,sumR))"
   ]
  },
  {
   "cell_type": "code",
   "execution_count": 7,
   "id": "225bb722",
   "metadata": {},
   "outputs": [],
   "source": [
    "def NpToPd(dataIn):\n",
    "    freqs = ['25','31.5','40','50','63','80','100','125','160','200','250','315','400','500','630','800','1K','1K25','1K6','2K','2K5','3K15','4K','5K','6K3','8K','10K','12K5']\n",
    "    return pd.DataFrame(data=dataIn,columns=freqs, index=['L','R'])"
   ]
  },
  {
   "cell_type": "code",
   "execution_count": 8,
   "id": "9d90f49f",
   "metadata": {},
   "outputs": [
    {
     "data": {
      "text/html": [
       "<div>\n",
       "<style scoped>\n",
       "    .dataframe tbody tr th:only-of-type {\n",
       "        vertical-align: middle;\n",
       "    }\n",
       "\n",
       "    .dataframe tbody tr th {\n",
       "        vertical-align: top;\n",
       "    }\n",
       "\n",
       "    .dataframe thead th {\n",
       "        text-align: right;\n",
       "    }\n",
       "</style>\n",
       "<table border=\"1\" class=\"dataframe\">\n",
       "  <thead>\n",
       "    <tr style=\"text-align: right;\">\n",
       "      <th></th>\n",
       "      <th>25</th>\n",
       "      <th>31.5</th>\n",
       "      <th>40</th>\n",
       "      <th>50</th>\n",
       "      <th>63</th>\n",
       "      <th>80</th>\n",
       "      <th>100</th>\n",
       "      <th>125</th>\n",
       "      <th>160</th>\n",
       "      <th>200</th>\n",
       "      <th>...</th>\n",
       "      <th>1K6</th>\n",
       "      <th>2K</th>\n",
       "      <th>2K5</th>\n",
       "      <th>3K15</th>\n",
       "      <th>4K</th>\n",
       "      <th>5K</th>\n",
       "      <th>6K3</th>\n",
       "      <th>8K</th>\n",
       "      <th>10K</th>\n",
       "      <th>12K5</th>\n",
       "    </tr>\n",
       "  </thead>\n",
       "  <tbody>\n",
       "    <tr>\n",
       "      <th>L</th>\n",
       "      <td>43.04</td>\n",
       "      <td>375.43</td>\n",
       "      <td>569.12</td>\n",
       "      <td>762.81</td>\n",
       "      <td>635.02</td>\n",
       "      <td>393.00</td>\n",
       "      <td>833.41</td>\n",
       "      <td>1053.10</td>\n",
       "      <td>1005.26</td>\n",
       "      <td>1216.39</td>\n",
       "      <td>...</td>\n",
       "      <td>1099.20</td>\n",
       "      <td>1036.41</td>\n",
       "      <td>1091.40</td>\n",
       "      <td>1234.59</td>\n",
       "      <td>1112.72</td>\n",
       "      <td>1050.89</td>\n",
       "      <td>1036.96</td>\n",
       "      <td>1037.26</td>\n",
       "      <td>1028.31</td>\n",
       "      <td>1012.19</td>\n",
       "    </tr>\n",
       "    <tr>\n",
       "      <th>R</th>\n",
       "      <td>79.00</td>\n",
       "      <td>410.37</td>\n",
       "      <td>597.80</td>\n",
       "      <td>785.25</td>\n",
       "      <td>651.36</td>\n",
       "      <td>421.28</td>\n",
       "      <td>791.03</td>\n",
       "      <td>1076.91</td>\n",
       "      <td>1002.14</td>\n",
       "      <td>1193.59</td>\n",
       "      <td>...</td>\n",
       "      <td>1144.16</td>\n",
       "      <td>1093.45</td>\n",
       "      <td>1217.35</td>\n",
       "      <td>1293.74</td>\n",
       "      <td>1126.87</td>\n",
       "      <td>1027.66</td>\n",
       "      <td>990.61</td>\n",
       "      <td>995.53</td>\n",
       "      <td>988.87</td>\n",
       "      <td>970.88</td>\n",
       "    </tr>\n",
       "  </tbody>\n",
       "</table>\n",
       "<p>2 rows × 28 columns</p>\n",
       "</div>"
      ],
      "text/plain": [
       "      25    31.5      40      50      63      80     100      125      160  \\\n",
       "L  43.04  375.43  569.12  762.81  635.02  393.00  833.41  1053.10  1005.26   \n",
       "R  79.00  410.37  597.80  785.25  651.36  421.28  791.03  1076.91  1002.14   \n",
       "\n",
       "       200  ...      1K6       2K      2K5     3K15       4K       5K  \\\n",
       "L  1216.39  ...  1099.20  1036.41  1091.40  1234.59  1112.72  1050.89   \n",
       "R  1193.59  ...  1144.16  1093.45  1217.35  1293.74  1126.87  1027.66   \n",
       "\n",
       "       6K3       8K      10K     12K5  \n",
       "L  1036.96  1037.26  1028.31  1012.19  \n",
       "R   990.61   995.53   988.87   970.88  \n",
       "\n",
       "[2 rows x 28 columns]"
      ]
     },
     "execution_count": 8,
     "metadata": {},
     "output_type": "execute_result"
    }
   ],
   "source": [
    "pdData = NpToPd(ParcevalCalc('./speech_35.csv'))\n",
    "pdData"
   ]
  },
  {
   "cell_type": "code",
   "execution_count": null,
   "id": "1d963436",
   "metadata": {},
   "outputs": [],
   "source": []
  }
 ],
 "metadata": {
  "kernelspec": {
   "display_name": "Python 3",
   "language": "python",
   "name": "python3"
  },
  "language_info": {
   "codemirror_mode": {
    "name": "ipython",
    "version": 3
   },
   "file_extension": ".py",
   "mimetype": "text/x-python",
   "name": "python",
   "nbconvert_exporter": "python",
   "pygments_lexer": "ipython3",
   "version": "3.9.6"
  }
 },
 "nbformat": 4,
 "nbformat_minor": 5
}

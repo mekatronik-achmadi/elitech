{
 "cells": [
  {
   "cell_type": "markdown",
   "id": "14e1d1e2",
   "metadata": {},
   "source": [
    "# Pengolahan Data Hasil Ukur\n",
    "\n",
    "Software yang digunakan untuk pengukuran adalah Realtime Analyzer (paket dari DSSF3) versi 5.2.0.26 buatan Yoshimasha Electronic Inc.\n",
    "Software tersebut running di atas layer Wine 6.13 dan PulseAudio 14.2 di sistem operasi Arch-Linux kernel 5.13.4.\n",
    "\n",
    "Hasil pengukuran menggunakan FFT Analyzer pada 1/3 Octave Band dengan A-Weighting untuk membuang noise frekuensi rendah"
   ]
  },
  {
   "cell_type": "code",
   "execution_count": 1,
   "id": "ce2e7ff8",
   "metadata": {},
   "outputs": [],
   "source": [
    "# import necessary modules\n",
    "\n",
    "%load_ext autoreload\n",
    "%autoreload 2\n",
    "\n",
    "import numpy as np\n",
    "import pandas as pd"
   ]
  },
  {
   "cell_type": "markdown",
   "id": "7b0d9d52",
   "metadata": {},
   "source": [
    "Rumus SPL Accumulation untuk 1/3 Octave band spectrums.\n",
    "\n",
    "Didapat dari: https://www.cirrusresearch.co.uk/blog/2020/03/calculation-of-dba-from-octave-band-sound-pressure-levels/"
   ]
  },
  {
   "cell_type": "code",
   "execution_count": 2,
   "id": "e26fc900",
   "metadata": {},
   "outputs": [],
   "source": [
    "def SplAll(dataIn):\n",
    "    freqSum = 0\n",
    "    for i in range(len(dataIn)):\n",
    "        valeach = np.power(10,dataIn[i]/10)\n",
    "        freqSum = freqSum + valeach\n",
    "    freqAll = 10* np.log10(freqSum)\n",
    "    \n",
    "    return freqAll"
   ]
  },
  {
   "cell_type": "markdown",
   "id": "0df3b77b",
   "metadata": {},
   "source": [
    "Fungsi Data Process dengan batasan upper frekuensi tertentu.\n",
    "Melihat analisa frekuensi dari audio rekaman yang digunakan, maka frekuensi di atas 12500 Hz tidak signifikan dan akan diabaikan.\n",
    "Untuk itu, upFreq ditentukan sebagai 59 (L) dan 60 (R) sesuai index array rekaman."
   ]
  },
  {
   "cell_type": "code",
   "execution_count": 3,
   "id": "b004cf04",
   "metadata": {},
   "outputs": [],
   "source": [
    "def DataProcess(csvFile, upFreq=59):\n",
    "    data = pd.read_csv(csvFile)\n",
    "    \n",
    "    allL = np.zeros(30)\n",
    "    allR = np.zeros(30)\n",
    "    \n",
    "    avgL = np.zeros(30)\n",
    "    avgR = np.zeros(30)\n",
    "\n",
    "    for i in range(30):\n",
    "        allL[i] = SplAll(data.iloc[i,4:upFreq:2])\n",
    "        allR[i] = SplAll(data.iloc[i,5:upFreq+1:2])\n",
    "    \n",
    "    for i in range(30):\n",
    "        avgL[i] = np.average(data.iloc[i,4:upFreq:2])\n",
    "        avgR[i] = np.average(data.iloc[i,5:upFreq+1:2])\n",
    "        \n",
    "    print(\"%s || Sum L: %5.2f dB & R: %5.2f dB || Avg L: %5.2f dB & R: %5.2f dB\" % (csvFile, np.average(allL), np.average(allR), np.average(avgL), np.average(avgR)))"
   ]
  },
  {
   "cell_type": "markdown",
   "id": "961e4d76",
   "metadata": {},
   "source": [
    "Proses data CSV dari rekaman software DSSF3 Real-Time Analyzer di 1/3 Octave Band Analysis untuk speech"
   ]
  },
  {
   "cell_type": "code",
   "execution_count": 4,
   "id": "18f4eb37",
   "metadata": {},
   "outputs": [
    {
     "name": "stdout",
     "output_type": "stream",
     "text": [
      "./speech_35.csv || Sum L: 59.56 dB & R: 59.78 dB || Avg L: 34.47 dB & R: 34.86 dB\n",
      "./speech_40.csv || Sum L: 62.63 dB & R: 62.85 dB || Avg L: 36.17 dB & R: 36.66 dB\n",
      "./speech_45.csv || Sum L: 65.54 dB & R: 65.84 dB || Avg L: 37.71 dB & R: 38.35 dB\n",
      "./speech_50.csv || Sum L: 69.89 dB & R: 70.20 dB || Avg L: 40.57 dB & R: 41.34 dB\n",
      "./speech_55.csv || Sum L: 75.70 dB & R: 75.97 dB || Avg L: 43.92 dB & R: 44.75 dB\n",
      "./speech_60.csv || Sum L: 79.92 dB & R: 80.27 dB || Avg L: 47.04 dB & R: 47.93 dB\n"
     ]
    }
   ],
   "source": [
    "speech_35 = DataProcess('./speech_35.csv')\n",
    "speech_40 = DataProcess('./speech_40.csv')\n",
    "speech_45 = DataProcess('./speech_45.csv')\n",
    "speech_50 = DataProcess('./speech_50.csv')\n",
    "speech_55 = DataProcess('./speech_55.csv')\n",
    "speech_60 = DataProcess('./speech_60.csv')"
   ]
  },
  {
   "cell_type": "markdown",
   "id": "4a4ee79e",
   "metadata": {},
   "source": [
    "Proses data CSV dari rekaman software DSSF3 Real-Time Analyzer di 1/3 Octave Band Analysis untuk wishper"
   ]
  },
  {
   "cell_type": "code",
   "execution_count": 5,
   "id": "a987492d",
   "metadata": {},
   "outputs": [
    {
     "name": "stdout",
     "output_type": "stream",
     "text": [
      "./wishper_35.csv || Sum L: 44.53 dB & R: 43.71 dB || Avg L: 25.22 dB & R: 25.05 dB\n",
      "./wishper_40.csv || Sum L: 44.64 dB & R: 43.85 dB || Avg L: 25.16 dB & R: 24.94 dB\n",
      "./wishper_45.csv || Sum L: 44.77 dB & R: 44.06 dB || Avg L: 25.17 dB & R: 24.93 dB\n",
      "./wishper_50.csv || Sum L: 45.44 dB & R: 44.96 dB || Avg L: 25.41 dB & R: 25.18 dB\n",
      "./wishper_55.csv || Sum L: 46.58 dB & R: 46.44 dB || Avg L: 25.68 dB & R: 25.62 dB\n",
      "./wishper_60.csv || Sum L: 48.92 dB & R: 49.29 dB || Avg L: 26.89 dB & R: 27.17 dB\n"
     ]
    }
   ],
   "source": [
    "wishper_35 = DataProcess('./wishper_35.csv')\n",
    "wishper_40 = DataProcess('./wishper_40.csv')\n",
    "wishper_45 = DataProcess('./wishper_45.csv')\n",
    "wishper_50 = DataProcess('./wishper_50.csv')\n",
    "wishper_55 = DataProcess('./wishper_55.csv')\n",
    "wishper_60 = DataProcess('./wishper_60.csv')"
   ]
  },
  {
   "cell_type": "code",
   "execution_count": null,
   "id": "5613f7f2",
   "metadata": {},
   "outputs": [],
   "source": []
  }
 ],
 "metadata": {
  "kernelspec": {
   "display_name": "Python 3",
   "language": "python",
   "name": "python3"
  },
  "language_info": {
   "codemirror_mode": {
    "name": "ipython",
    "version": 3
   },
   "file_extension": ".py",
   "mimetype": "text/x-python",
   "name": "python",
   "nbconvert_exporter": "python",
   "pygments_lexer": "ipython3",
   "version": "3.9.6"
  }
 },
 "nbformat": 4,
 "nbformat_minor": 5
}

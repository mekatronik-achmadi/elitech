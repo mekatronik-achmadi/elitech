{
 "cells": [
  {
   "cell_type": "markdown",
   "id": "39b184f7",
   "metadata": {},
   "source": [
    "# Membandingkan Nilai dB antara SLM dan hasil FFT RTA\n",
    "\n",
    "Terdapat selisih perbedaan antara pembacaan nilai SLM dan hasil akumulasi ALL Frequency pada software DSSF3 Real-Time Analyzer di 1/3 Octave Band Analysis "
   ]
  },
  {
   "cell_type": "code",
   "execution_count": 1,
   "id": "7bb38943",
   "metadata": {},
   "outputs": [],
   "source": [
    "# import necessary modules\n",
    "\n",
    "%load_ext autoreload\n",
    "%autoreload 2\n",
    "\n",
    "import numpy as np\n",
    "import pandas as pd"
   ]
  },
  {
   "cell_type": "markdown",
   "id": "9d596ec5",
   "metadata": {},
   "source": [
    "Rumus SPL Accumulation  untuk 1/3 Octave band spectrums.\n",
    "\n",
    "Didapat dari: https://www.cirrusresearch.co.uk/blog/2020/03/calculation-of-dba-from-octave-band-sound-pressure-levels/"
   ]
  },
  {
   "cell_type": "code",
   "execution_count": 2,
   "id": "9fb4347e",
   "metadata": {},
   "outputs": [],
   "source": [
    "def SplAll(dataIn):\n",
    "    freqSum = 0\n",
    "    for i in range(len(dataIn)):\n",
    "        valeach = np.power(10,dataIn[i]/10)\n",
    "        freqSum = freqSum + valeach\n",
    "    freqAll = 10* np.log10(freqSum)\n",
    "    \n",
    "    return freqAll"
   ]
  },
  {
   "cell_type": "markdown",
   "id": "708309e2",
   "metadata": {},
   "source": [
    "Ambil data CSV dari rekaman software DSSF3 Real-Time Analyzer di 1/3 Octave Band Analysis "
   ]
  },
  {
   "cell_type": "code",
   "execution_count": 3,
   "id": "5f302c7e",
   "metadata": {},
   "outputs": [],
   "source": [
    "data = pd.read_csv('./EARS_Background.csv')"
   ]
  },
  {
   "cell_type": "markdown",
   "id": "6c6bc435",
   "metadata": {},
   "source": [
    "Mendapatkan SPL Accumulation menggunakan rumus di atas"
   ]
  },
  {
   "cell_type": "code",
   "execution_count": 4,
   "id": "157f6c7e",
   "metadata": {},
   "outputs": [],
   "source": [
    "dataL = np.zeros(30)\n",
    "dataR = np.zeros(30)\n",
    "\n",
    "for i in range(30):\n",
    "    dataL[i] = SplAll(data.iloc[i,4::2])\n",
    "    dataR[i] = SplAll(data.iloc[i,5::2])"
   ]
  },
  {
   "cell_type": "markdown",
   "id": "46936e4c",
   "metadata": {},
   "source": [
    "Sebagai pembanding, dihitung sebagai rata-rata\n"
   ]
  },
  {
   "cell_type": "code",
   "execution_count": 5,
   "id": "a93c8a2d",
   "metadata": {},
   "outputs": [],
   "source": [
    "avgL = np.zeros(30)\n",
    "avgR = np.zeros(30)\n",
    "\n",
    "for i in range(30):\n",
    "    avgL[i] = np.average(data.iloc[i,4::2])\n",
    "    avgR[i] = np.average(data.iloc[i,5::2])"
   ]
  },
  {
   "cell_type": "code",
   "execution_count": 6,
   "id": "17c63253",
   "metadata": {},
   "outputs": [
    {
     "name": "stdout",
     "output_type": "stream",
     "text": [
      "ALL in L: 44.59 dB and R: 43.45 dB\n",
      "Avg in L: 25.57 dB and R: 24.83 dB\n"
     ]
    }
   ],
   "source": [
    "print(\"ALL in L: %5.2f dB and R: %5.2f dB\" % (dataL[0], dataR[0]))\n",
    "print(\"Avg in L: %5.2f dB and R: %5.2f dB\" % (avgL[0], avgR[0]))"
   ]
  },
  {
   "cell_type": "code",
   "execution_count": null,
   "id": "a5994664",
   "metadata": {},
   "outputs": [],
   "source": []
  }
 ],
 "metadata": {
  "kernelspec": {
   "display_name": "Python 3",
   "language": "python",
   "name": "python3"
  },
  "language_info": {
   "codemirror_mode": {
    "name": "ipython",
    "version": 3
   },
   "file_extension": ".py",
   "mimetype": "text/x-python",
   "name": "python",
   "nbconvert_exporter": "python",
   "pygments_lexer": "ipython3",
   "version": "3.9.6"
  }
 },
 "nbformat": 4,
 "nbformat_minor": 5
}
